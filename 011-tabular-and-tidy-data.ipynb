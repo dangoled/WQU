{
  "nbformat": 4,
  "nbformat_minor": 0,
  "metadata": {
    "colab": {
      "provenance": []
    },
    "kernelspec": {
      "name": "python3",
      "display_name": "Python 3"
    },
    "language_info": {
      "name": "python"
    }
  },
  "cells": [
    {
      "cell_type": "markdown",
      "source": [
        "<font size=\"+3\"><strong>1. Organizing Tabular Data in Python</strong></font>"
      ],
      "metadata": {
        "id": "WPt3hQ8OFp9-"
      }
    },
    {
      "cell_type": "markdown",
      "source": [
        "# What's Tabular Data?"
      ],
      "metadata": {
        "id": "pvD5GKjTF52f"
      }
    },
    {
      "cell_type": "markdown",
      "source": [
        "Information can come in many forms, and part of a data scientist's job is making sure that information is organized in a way that's conducive to analysis. Take for example these five houses from the Mexico real estate dataset we'll use in this project:\n",
        "\n",
        "![Five houses showing price, number of rooms, and area in square meters for each](https://github.com/dangoled/WQU/blob/main/images/proj-1.001.png?raw=1)\n",
        "\n",
        "One common way to organize this information is in a **table**, which is a group of **cells** organized into **rows** and **columns**:\n",
        "\n",
        "![Table, organized into rows and columns, with housing information from previous image](https://github.com/dangoled/WQU/blob/main/images/proj-1.002.png?raw=1)\n",
        "\n",
        "When working with this sort of **tabular data**, it's important to organize row and columns following the principles of \"**[tidy data](https://en.wikipedia.org/wiki/Tidy_data)**.\" What does that mean in the case of our dataset?\n",
        "\n",
        "1. Each row corresponds to a single house in our dataset. We'll call each of these houses an **observation**.\n",
        "2. Each column corresponds to a characteristic of each house. We'll call these **features**.\n",
        "3. Each cell contains only one **value**.\n",
        "\n",
        "![Three copies of table from previous image, emphasizing observations as rows and features as columns](https://github.com/dangoled/WQU/blob/main/images/proj-1.003.png?raw=1)\n",
        "\n",
        "So whenever you encounter a new dataset, make sure your data is \"tidy.\""
      ],
      "metadata": {
        "id": "LQ-RPCCMGGho"
      }
    },
    {
      "cell_type": "code",
      "source": [],
      "metadata": {
        "id": "VFfM8xywGJkd"
      },
      "execution_count": null,
      "outputs": []
    }
  ]
}